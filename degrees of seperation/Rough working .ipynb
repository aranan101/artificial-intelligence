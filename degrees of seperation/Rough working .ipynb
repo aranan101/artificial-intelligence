{
 "cells": [
  {
   "cell_type": "code",
   "execution_count": 11,
   "id": "635c3caa",
   "metadata": {},
   "outputs": [],
   "source": [
    "from degrees import *\n",
    "import os"
   ]
  },
  {
   "cell_type": "code",
   "execution_count": 41,
   "id": "7090cdb5",
   "metadata": {},
   "outputs": [],
   "source": [
    "## Load in raw data \n",
    "cwd = os.getcwd()\n",
    "\n",
    "load_data(cwd +\"\\large\")\n",
    "print(shortest_path('kevin bacon', 'tom cruise'))\n",
    "print(shortest_path('emma watson', 'jennifer lawrence'))\n",
    "print(shortest_path('bruce lee', 'audrey hepburn'))"
   ]
  },
  {
   "cell_type": "code",
   "execution_count": 60,
   "id": "482a3454",
   "metadata": {},
   "outputs": [],
   "source": [
    "def path(source, target, frontier = StackFrontier()):\n",
    "    num_states_explored = 0\n",
    "    source_id = [n for n in names[source]]\n",
    "    target_id = set(n for n in names[target])\n",
    "    # Create initial frontier \n",
    "    for s in source_id:\n",
    "        start = Node(state = s, parent = None, action = 'person')\n",
    "        frontier.add(start) \n",
    "    \n",
    "    explored = set()\n",
    "    \n",
    "    # Loop until you find a solution \n",
    "    while True: \n",
    "        \n",
    "        if frontier.empty(): \n",
    "            # If no solution then express it \n",
    "            return None \n",
    "        \n",
    "        node = frontier.remove()\n",
    "        num_states_explored += 1 \n",
    "        if num_states_explored % 1000 == 0: \n",
    "            print(num_states_explored)\n",
    "        \n",
    "        if node.action == 'movie': \n",
    "            for star in movies[node.state]['stars']: \n",
    "                if star in target_id:\n",
    "                    states = [star]\n",
    "                    while node.parent != None: \n",
    "                        states.append(node.state)\n",
    "                        node = node.parent \n",
    "                    states.reverse()\n",
    "                    solution = []\n",
    "                    for i in range(0,len(states),2): \n",
    "                        transition = (states[i], states[i+1])\n",
    "                        solution.append(transition)\n",
    "                    return solution, num_states_explored \n",
    "\n",
    "                \n",
    "            \n",
    "        \n",
    "        explored.add(node.state)\n",
    "        if node.action == 'person': \n",
    "            neighbours = list(people[node.state]['movies'])\n",
    "            action = 'movie'\n",
    "            \n",
    "        elif node.action == 'movie': \n",
    "            neighbours = list(movies[node.state]['stars'])\n",
    "            action = 'person'\n",
    "        \n",
    "        for n in neighbours:\n",
    "            if not frontier.contains_state(n) and n not in explored: \n",
    "                child = Node(state= n, parent=node, action=action)\n",
    "                frontier.add(child)\n",
    "                \n",
    "        \n",
    "def shortest_path(source, target): \n",
    "    # Depth first search \n",
    "    dfs_solution, dfs_cost = path(source, target, frontier = StackFrontier())\n",
    "    # Breadth first search \n",
    "    bfs_solution, bfs_cost = path(source, target, frontier = QueueFrontier())\n",
    "    if bfs_cost < dfs_cost: \n",
    "        return bfs_solution \n",
    "    else: \n",
    "        return dfs_solution \n",
    "    "
   ]
  }
 ],
 "metadata": {
  "kernelspec": {
   "display_name": "Python [conda env:py3-TF2.0] *",
   "language": "python",
   "name": "conda-env-py3-TF2.0-py"
  },
  "language_info": {
   "codemirror_mode": {
    "name": "ipython",
    "version": 3
   },
   "file_extension": ".py",
   "mimetype": "text/x-python",
   "name": "python",
   "nbconvert_exporter": "python",
   "pygments_lexer": "ipython3",
   "version": "3.7.10"
  }
 },
 "nbformat": 4,
 "nbformat_minor": 5
}
