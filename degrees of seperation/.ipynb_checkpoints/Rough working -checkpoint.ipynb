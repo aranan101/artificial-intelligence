{
 "cells": [
  {
   "cell_type": "code",
   "execution_count": 4,
   "id": "635c3caa",
   "metadata": {},
   "outputs": [],
   "source": [
    "from degrees import *\n",
    "import os\n",
    "\n"
   ]
  },
  {
   "cell_type": "code",
   "execution_count": 5,
   "id": "7090cdb5",
   "metadata": {},
   "outputs": [],
   "source": [
    "cwd = os.getcwd()\n",
    "\n",
    "load_data(cwd +\"\\small\")"
   ]
  },
  {
   "cell_type": "code",
   "execution_count": 9,
   "id": "6e1dbd9b",
   "metadata": {
    "scrolled": true
   },
   "outputs": [
    {
     "data": {
      "text/plain": [
       "{'kevin bacon': {'102'},\n",
       " 'tom cruise': {'129'},\n",
       " 'cary elwes': {'144'},\n",
       " 'tom hanks': {'158'},\n",
       " 'mandy patinkin': {'1597'},\n",
       " 'dustin hoffman': {'163'},\n",
       " 'chris sarandon': {'1697'},\n",
       " 'demi moore': {'193'},\n",
       " 'jack nicholson': {'197'},\n",
       " 'bill paxton': {'200'},\n",
       " 'sally field': {'398'},\n",
       " 'valeria golino': {'420'},\n",
       " 'gerald r. molen': {'596520'},\n",
       " 'gary sinise': {'641'},\n",
       " 'robin wright': {'705'},\n",
       " 'emma watson': {'914612'}}"
      ]
     },
     "execution_count": 9,
     "metadata": {},
     "output_type": "execute_result"
    }
   ],
   "source": [
    "names "
   ]
  },
  {
   "cell_type": "code",
   "execution_count": 15,
   "id": "0cf9b9d9",
   "metadata": {},
   "outputs": [
    {
     "data": {
      "text/plain": [
       "{'102'}"
      ]
     },
     "execution_count": 15,
     "metadata": {},
     "output_type": "execute_result"
    }
   ],
   "source": [
    "names['kevin bacon']"
   ]
  },
  {
   "cell_type": "code",
   "execution_count": 10,
   "id": "a458a664",
   "metadata": {
    "scrolled": false
   },
   "outputs": [
    {
     "data": {
      "text/plain": [
       "{'102': {'name': 'Kevin Bacon',\n",
       "  'birth': '1958',\n",
       "  'movies': {'104257', '112384'}},\n",
       " '129': {'name': 'Tom Cruise', 'birth': '1962', 'movies': {'104257', '95953'}},\n",
       " '144': {'name': 'Cary Elwes', 'birth': '1962', 'movies': {'93779'}},\n",
       " '158': {'name': 'Tom Hanks', 'birth': '1956', 'movies': {'109830', '112384'}},\n",
       " '1597': {'name': 'Mandy Patinkin', 'birth': '1952', 'movies': {'93779'}},\n",
       " '163': {'name': 'Dustin Hoffman', 'birth': '1937', 'movies': {'95953'}},\n",
       " '1697': {'name': 'Chris Sarandon', 'birth': '1942', 'movies': {'93779'}},\n",
       " '193': {'name': 'Demi Moore', 'birth': '1962', 'movies': {'104257'}},\n",
       " '197': {'name': 'Jack Nicholson', 'birth': '1937', 'movies': {'104257'}},\n",
       " '200': {'name': 'Bill Paxton', 'birth': '1955', 'movies': {'112384'}},\n",
       " '398': {'name': 'Sally Field', 'birth': '1946', 'movies': {'109830'}},\n",
       " '420': {'name': 'Valeria Golino', 'birth': '1965', 'movies': {'95953'}},\n",
       " '596520': {'name': 'Gerald R. Molen', 'birth': '1935', 'movies': {'95953'}},\n",
       " '641': {'name': 'Gary Sinise',\n",
       "  'birth': '1955',\n",
       "  'movies': {'109830', '112384'}},\n",
       " '705': {'name': 'Robin Wright',\n",
       "  'birth': '1966',\n",
       "  'movies': {'109830', '93779'}},\n",
       " '914612': {'name': 'Emma Watson', 'birth': '1990', 'movies': set()}}"
      ]
     },
     "execution_count": 10,
     "metadata": {},
     "output_type": "execute_result"
    }
   ],
   "source": [
    "people"
   ]
  },
  {
   "cell_type": "code",
   "execution_count": 11,
   "id": "e254fa01",
   "metadata": {
    "scrolled": true
   },
   "outputs": [
    {
     "data": {
      "text/plain": [
       "{'112384': {'title': 'Apollo 13',\n",
       "  'year': '1995',\n",
       "  'stars': {'102', '158', '200', '641'}},\n",
       " '104257': {'title': 'A Few Good Men',\n",
       "  'year': '1992',\n",
       "  'stars': {'102', '129', '193', '197'}},\n",
       " '109830': {'title': 'Forrest Gump',\n",
       "  'year': '1994',\n",
       "  'stars': {'158', '398', '641', '705'}},\n",
       " '93779': {'title': 'The Princess Bride',\n",
       "  'year': '1987',\n",
       "  'stars': {'144', '1597', '1697', '705'}},\n",
       " '95953': {'title': 'Rain Man',\n",
       "  'year': '1988',\n",
       "  'stars': {'129', '163', '420', '596520'}}}"
      ]
     },
     "execution_count": 11,
     "metadata": {},
     "output_type": "execute_result"
    }
   ],
   "source": [
    "movies"
   ]
  },
  {
   "cell_type": "code",
   "execution_count": 26,
   "id": "ae5ed789",
   "metadata": {},
   "outputs": [],
   "source": [
    "ligma = 'movie'\n",
    "sugon = set(['person', 'movie'])\n",
    "\n",
    "for x in sugon: \n",
    "    if ligma != x: \n",
    "        ligma = x\n",
    "        break"
   ]
  },
  {
   "cell_type": "code",
   "execution_count": 38,
   "id": "988a2f69",
   "metadata": {},
   "outputs": [],
   "source": [
    "ligma = set()\n",
    "ligma.add(\"2\")"
   ]
  },
  {
   "cell_type": "code",
   "execution_count": 56,
   "id": "310e4c70",
   "metadata": {},
   "outputs": [
    {
     "data": {
      "text/plain": [
       "'102'"
      ]
     },
     "execution_count": 56,
     "metadata": {},
     "output_type": "execute_result"
    }
   ],
   "source": [
    "[n for n in names['kevin bacon']][0]"
   ]
  },
  {
   "cell_type": "code",
   "execution_count": 22,
   "id": "0445a72d",
   "metadata": {},
   "outputs": [
    {
     "data": {
      "text/plain": [
       "{'title': 'A Few Good Men',\n",
       " 'year': '1992',\n",
       " 'stars': {'102', '129', '193', '197'}}"
      ]
     },
     "execution_count": 22,
     "metadata": {},
     "output_type": "execute_result"
    }
   ],
   "source": [
    "movies['104257']"
   ]
  },
  {
   "cell_type": "code",
   "execution_count": 87,
   "id": "482a3454",
   "metadata": {},
   "outputs": [],
   "source": [
    "def shortest_path(source, target):\n",
    "    num_states_explored = 0\n",
    "    source_id = [n for n in names[source]][0]\n",
    "    target_id = [n for n in names[target]][0]\n",
    "    indicator = 'person'\n",
    "    indicators = ('person', 'movie')\n",
    "    start = Node(state = source_id, parent = None, action = indicator)\n",
    "    ## Depth first search\n",
    "    \n",
    "    # Create initial frontier \n",
    "    frontier = StackFrontier()\n",
    "    frontier.add(start)\n",
    "    \n",
    "    explored = set()\n",
    "    \n",
    "    # Loop until you find a solution \n",
    "    while True: \n",
    "        \n",
    "        if frontier.empty(): \n",
    "            # If no solution then express it \n",
    "            raise Exception('no Solution')\n",
    "        \n",
    "        node = frontier.remove()\n",
    "        num_states_explored += 1 \n",
    "\n",
    "        print(node.action)\n",
    "        if node.state == target_id: \n",
    "            print('finished')\n",
    "            return node\n",
    "        \n",
    "        explored.add(node.state)\n",
    "        if node.action == 'person': \n",
    "            neighbours = list(people[node.state]['movies'])\n",
    "            action = 'movie'\n",
    "            \n",
    "        elif node.action == 'movie': \n",
    "            neighbours = list(movies[node.state]['stars'])\n",
    "            action = 'person'\n",
    "        \n",
    "        for n in neighbours:\n",
    "            if not frontier.contains_state(n) and n not in explored: \n",
    "                child = Node(state= n, parent=node, action=action)\n",
    "                frontier.add(child)\n",
    "                \n",
    "        \n"
   ]
  },
  {
   "cell_type": "code",
   "execution_count": 88,
   "id": "f8fd1b5b",
   "metadata": {},
   "outputs": [
    {
     "name": "stdout",
     "output_type": "stream",
     "text": [
      "person\n",
      "movie\n",
      "person\n",
      "person\n",
      "movie\n",
      "person\n",
      "movie\n",
      "person\n",
      "person\n",
      "person\n",
      "person\n",
      "person\n",
      "movie\n",
      "person\n",
      "person\n",
      "person\n",
      "finished\n"
     ]
    }
   ],
   "source": [
    "ligma = shortest_path('kevin bacon', 'tom cruise')"
   ]
  },
  {
   "cell_type": "code",
   "execution_count": 84,
   "id": "dbf342bd",
   "metadata": {},
   "outputs": [
    {
     "data": {
      "text/plain": [
       "'104257'"
      ]
     },
     "execution_count": 84,
     "metadata": {},
     "output_type": "execute_result"
    }
   ],
   "source": []
  }
 ],
 "metadata": {
  "kernelspec": {
   "display_name": "Python [conda env:py3-TF2.0] *",
   "language": "python",
   "name": "conda-env-py3-TF2.0-py"
  },
  "language_info": {
   "codemirror_mode": {
    "name": "ipython",
    "version": 3
   },
   "file_extension": ".py",
   "mimetype": "text/x-python",
   "name": "python",
   "nbconvert_exporter": "python",
   "pygments_lexer": "ipython3",
   "version": "3.7.10"
  }
 },
 "nbformat": 4,
 "nbformat_minor": 5
}
